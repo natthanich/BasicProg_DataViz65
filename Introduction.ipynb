{
  "nbformat": 4,
  "nbformat_minor": 0,
  "metadata": {
    "colab": {
      "name": "Introduction.ipynb ",
      "provenance": [],
      "authorship_tag": "ABX9TyNHKQaiavFjlo3yIXydiQrE",
      "include_colab_link": true
    },
    "kernelspec": {
      "name": "python3",
      "display_name": "Python 3"
    },
    "language_info": {
      "name": "python"
    }
  },
  "cells": [
    {
      "cell_type": "markdown",
      "metadata": {
        "id": "view-in-github",
        "colab_type": "text"
      },
      "source": [
        "<a href=\"https://colab.research.google.com/github/natthanich/BasicProg_DataViz65/blob/main/Introduction.ipynb\" target=\"_parent\"><img src=\"https://colab.research.google.com/assets/colab-badge.svg\" alt=\"Open In Colab\"/></a>"
      ]
    },
    {
      "cell_type": "code",
      "execution_count": null,
      "metadata": {
        "id": "2ON9veHMFEyf"
      },
      "outputs": [],
      "source": [
        ""
      ]
    },
    {
      "cell_type": "markdown",
      "source": [
        "ณัฐนิช หิรัญชวโรจน์ (6330205528)"
      ],
      "metadata": {
        "id": "0Ump4789Fh1v"
      }
    },
    {
      "cell_type": "markdown",
      "source": [
        "# Markdown"
      ],
      "metadata": {
        "id": "y1dXBtJgGXUY"
      }
    },
    {
      "cell_type": "markdown",
      "source": [
        "## heading2"
      ],
      "metadata": {
        "id": "G6OYIHk0GdjI"
      }
    },
    {
      "cell_type": "code",
      "source": [
        "print('natthanich')"
      ],
      "metadata": {
        "colab": {
          "base_uri": "https://localhost:8080/"
        },
        "id": "lEYUkb3QHD_z",
        "outputId": "1ab4bf84-d463-4f83-fe60-8e223c70c36f"
      },
      "execution_count": 1,
      "outputs": [
        {
          "output_type": "stream",
          "name": "stdout",
          "text": [
            "natthanich\n"
          ]
        }
      ]
    }
  ]
}