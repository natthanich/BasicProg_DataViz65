{
  "nbformat": 4,
  "nbformat_minor": 0,
  "metadata": {
    "colab": {
      "name": "Recap 1-3 Quiz1.ipynb",
      "provenance": [],
      "authorship_tag": "ABX9TyPEx7x0nBl3WtLX9T7gntUo",
      "include_colab_link": true
    },
    "kernelspec": {
      "name": "python3",
      "display_name": "Python 3"
    },
    "language_info": {
      "name": "python"
    }
  },
  "cells": [
    {
      "cell_type": "markdown",
      "metadata": {
        "id": "view-in-github",
        "colab_type": "text"
      },
      "source": [
        "<a href=\"https://colab.research.google.com/github/natthanich/BasicProg_DataViz65/blob/main/Recap_1_3_Quiz1.ipynb\" target=\"_parent\"><img src=\"https://colab.research.google.com/assets/colab-badge.svg\" alt=\"Open In Colab\"/></a>"
      ]
    },
    {
      "cell_type": "markdown",
      "source": [
        "Quiz 1 \n",
        "\n",
        "คำนวณเวลาเป็นความต่างของเวลาเป็นวินาทีของช่วงเวลาต่อไปนี้โดยใช้คำสั่ง split() ช่วย และ print ออกมาให้สวยงาม\n",
        "\n",
        "* 09:11:50 - 12:30:15\n",
        "* 13:41:07 - 20:00:18\n",
        "* 21:30:15 - 00:00:00\n",
        "* 00:00:00 - 23:59:59\n",
        "\n",
        "\n",
        "\n",
        "\n",
        "\n"
      ],
      "metadata": {
        "id": "FKKg2s03yfKC"
      }
    },
    {
      "cell_type": "code",
      "source": [
        "A = ((12*60*60)+(30*60)+15)-((9*60*60)+(11*60)+50)\n",
        "print(f'ความต่างของเวลา 09:11:50 - 12:30:15 เป็นวินาที ได้เท่ากับ {A} วินาที')"
      ],
      "metadata": {
        "colab": {
          "base_uri": "https://localhost:8080/"
        },
        "id": "9dlRf-Sc5evh",
        "outputId": "f8880ad0-8ced-45a5-9f29-52b4a2b87402"
      },
      "execution_count": 5,
      "outputs": [
        {
          "output_type": "stream",
          "name": "stdout",
          "text": [
            "ความต่างของเวลา 09:11:50 - 12:30:15 เป็นวินาที ได้เท่ากับ 11905 วินาที\n"
          ]
        }
      ]
    },
    {
      "cell_type": "code",
      "source": [
        "B = ((20*60*60)+(0*60)+18)-((13*60*60)+(41*60)+7)\n",
        "print(f'ความต่างของเวลา 13:41:07 - 20:00:18 เป็นวินาที ได้เท่ากับ {B} วินาที')"
      ],
      "metadata": {
        "colab": {
          "base_uri": "https://localhost:8080/"
        },
        "id": "8ns1BfUQ7A1c",
        "outputId": "9dcb1e7d-8a45-4a4a-a310-16c93e9b7fae"
      },
      "execution_count": 6,
      "outputs": [
        {
          "output_type": "stream",
          "name": "stdout",
          "text": [
            "ความต่างของเวลา 13:41:07 - 20:00:18 เป็นวินาที ได้เท่ากับ 22751 วินาที\n"
          ]
        }
      ]
    },
    {
      "cell_type": "code",
      "source": [
        "C = ((24*60*60)+(0*60)+0)-((21*60*60)+(30*60)+15)\n",
        "print(f'ความต่างของเวลา 21:30:15 - 00:00:00 เป็นวินาที ได้เท่ากับ {C} วินาที')"
      ],
      "metadata": {
        "colab": {
          "base_uri": "https://localhost:8080/"
        },
        "id": "xvQDRmoT7Wkm",
        "outputId": "87345432-f937-42ca-e875-0a737f169ef2"
      },
      "execution_count": 7,
      "outputs": [
        {
          "output_type": "stream",
          "name": "stdout",
          "text": [
            "ความต่างของเวลา 21:30:15 - 00:00:00 เป็นวินาที ได้เท่ากับ 8985 วินาที\n"
          ]
        }
      ]
    },
    {
      "cell_type": "code",
      "source": [
        "D = ((23*60*60)+(59*60)+59)-((0*60*60)+(0*60)+0)\n",
        "print(f'ความต่างของเวลา 00:00:00 - 23:59:59 เป็นวินาที ได้เท่ากับ {D} วินาที')"
      ],
      "metadata": {
        "colab": {
          "base_uri": "https://localhost:8080/"
        },
        "outputId": "7c1752d2-b56f-4ae2-8f43-bc0ff8ac0039",
        "id": "FbYB55RU7b8p"
      },
      "execution_count": 9,
      "outputs": [
        {
          "output_type": "stream",
          "name": "stdout",
          "text": [
            "ความต่างของเวลา 00:00:00 - 23:59:59 เป็นวินาที ได้เท่ากับ 86399 วินาที\n"
          ]
        }
      ]
    }
  ]
}