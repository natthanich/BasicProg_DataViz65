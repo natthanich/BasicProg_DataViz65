{
  "nbformat": 4,
  "nbformat_minor": 0,
  "metadata": {
    "colab": {
      "name": "Quiz 3 .ipynb",
      "provenance": [],
      "authorship_tag": "ABX9TyMvhwQJDwpAm8kNrZ4cTTcD",
      "include_colab_link": true
    },
    "kernelspec": {
      "name": "python3",
      "display_name": "Python 3"
    },
    "language_info": {
      "name": "python"
    }
  },
  "cells": [
    {
      "cell_type": "markdown",
      "metadata": {
        "id": "view-in-github",
        "colab_type": "text"
      },
      "source": [
        "<a href=\"https://colab.research.google.com/github/natthanich/BasicProg_DataViz65/blob/main/Quiz_3_.ipynb\" target=\"_parent\"><img src=\"https://colab.research.google.com/assets/colab-badge.svg\" alt=\"Open In Colab\"/></a>"
      ]
    },
    {
      "cell_type": "markdown",
      "source": [
        "# Quiz3\n",
        "\n",
        "เขียน function แสดงความต่างของเวลาโดย input อยู่ในรูปแบบ 'XX:YY:ZZ - AA:BB:CC'\n",
        "\n",
        "และวนลูปแสดงผลของ input ต่อไปนี้\n",
        "\n",
        "* '09:11:50 - 12:30:15'\n",
        "* '13:41:07 - 20:00:18'\n",
        "* '00:00:00 - 23:59:59'\n",
        "* '18:04:11 - 00:00:00'\n",
        "* '21:30:00 - 03:05:15'\n",
        "\n",
        "ตัวอย่าง input ```'00:00:00-01:00:00'```\n",
        "\n",
        "output ```ช่วงระยะเวลาระหว่าง 00:00:00 ถึง 01:00:00 มีเวลาทั้งหมด 3,600 วินาที```"
      ],
      "metadata": {
        "id": "LFoUApQMjsxv"
      }
    },
    {
      "cell_type": "code",
      "source": [
        "วิธีที่ 1"
      ],
      "metadata": {
        "id": "wttX9zGhqI3S"
      },
      "execution_count": null,
      "outputs": []
    },
    {
      "cell_type": "code",
      "source": [
        "def calculate_time(time):\n",
        "         time_split = time.split(' - ')\n",
        "         starttimeSP = time_split[0].split(':')\n",
        "         endtimeSP = time_split[-1].split(':')\n",
        "         starttime = 3600*int(starttimeSP[0]) + 60*int(starttimeSP[1]) + int(starttimeSP[2])\n",
        "         endtime = 3600*int(endtimeSP[0]) + 60*int(endtimeSP[1]) + int(endtimeSP[2])\n",
        "         if endtime > starttime:\n",
        "           print(f'ระยะเวลาระหว่าง {time_split[0]} และ {time_split[1]} ห่างกันเท่ากับ {endtime-starttime:,} วินาที')\n",
        "         else:\n",
        "            print(f'ระยะเวลาระหว่าง {time_split[1]} และ {time_split[0]} ห่างกันเท่ากับ {(endtime+(24*3600))-starttime:,} วินาที')\n",
        "  \n",
        "              \n",
        "          "
      ],
      "metadata": {
        "id": "tC4nYYMxWZVI"
      },
      "execution_count": null,
      "outputs": []
    },
    {
      "cell_type": "code",
      "source": [
        "for time in ['09:11:50 - 12:30:15','13:41:07 - 20:00:18','00:00:00 - 23:59:59','18:04:11 - 00:00:00','21:30:00 - 03:05:15']:\n",
        "  T= time\n",
        "  calculate_time(time)"
      ],
      "metadata": {
        "colab": {
          "base_uri": "https://localhost:8080/"
        },
        "id": "u01st9mlemV-",
        "outputId": "bf8100b0-052f-40df-be7b-c5bc1cd03466"
      },
      "execution_count": null,
      "outputs": [
        {
          "output_type": "stream",
          "name": "stdout",
          "text": [
            "ระยะเวลาระหว่าง 09:11:50 และ 12:30:15 ห่างกันเท่ากับ 11,905 วินาที\n",
            "ระยะเวลาระหว่าง 13:41:07 และ 20:00:18 ห่างกันเท่ากับ 22,751 วินาที\n",
            "ระยะเวลาระหว่าง 00:00:00 และ 23:59:59 ห่างกันเท่ากับ 86,399 วินาที\n",
            "ระยะเวลาระหว่าง 00:00:00 และ 18:04:11 ห่างกันเท่ากับ 21,349 วินาที\n",
            "ระยะเวลาระหว่าง 03:05:15 และ 21:30:00 ห่างกันเท่ากับ 20,115 วินาที\n"
          ]
        }
      ]
    },
    {
      "cell_type": "markdown",
      "source": [
        "วิธีที่ 2"
      ],
      "metadata": {
        "id": "jywD0dg2qC3m"
      }
    },
    {
      "cell_type": "code",
      "source": [
        "input =  ['09:11:50 - 12:30:15','13:41:07 - 20:00:18','00:00:00 - 23:59:59','18:04:11 - 00:00:00','21:30:00 - 03:05:15']"
      ],
      "metadata": {
        "id": "4eFT89jtkLK9"
      },
      "execution_count": 179,
      "outputs": []
    },
    {
      "cell_type": "code",
      "source": [
        "def R_time(input) :\n",
        " for time in input  :\n",
        "    sp_time = time.split( ' - ' )\n",
        "    start_time =  sp_time[0]\n",
        "    sp_start_time = start_time.split(':')\n",
        "    end_time = sp_time[1]\n",
        "    sp_end_time = end_time.split(':')\n",
        "    t1 = (int(sp_start_time[0])*60*60) + (int(sp_start_time[1])*60) + (int(sp_start_time[2]))\n",
        "    t2 = (int(sp_end_time[0])*60*60) + (int(sp_end_time[1])*60) + (int(sp_end_time[2]))\n",
        "    total_sec = t2 - t1\n",
        "    if total_sec > 0 :\n",
        "      print(f'ช่วงระยะเวลาระหว่าง {sp_time[0]} ถึง {sp_time[1]} มีเวลาทั้งหมด { t2 - t1: ,} วินาที')\n",
        "    else  :\n",
        "      print(f'ช่วงระยะเวลาระหว่าง {sp_time[0]} ถึง {sp_time[1]} มีเวลาทั้งหมด { (t2+(24*3600)) - t1: ,} วินาที')  "
      ],
      "metadata": {
        "id": "pEIL_J6leumy"
      },
      "execution_count": 180,
      "outputs": []
    },
    {
      "cell_type": "code",
      "source": [
        " R_time(input)"
      ],
      "metadata": {
        "colab": {
          "base_uri": "https://localhost:8080/"
        },
        "id": "g49mL1rAnOj4",
        "outputId": "06a97716-a89b-479d-fd32-06ec9e7a372a"
      },
      "execution_count": 181,
      "outputs": [
        {
          "output_type": "stream",
          "name": "stdout",
          "text": [
            "ช่วงระยะเวลาระหว่าง 09:11:50 ถึง 12:30:15 มีเวลาทั้งหมด  11,905 วินาที\n",
            "ช่วงระยะเวลาระหว่าง 13:41:07 ถึง 20:00:18 มีเวลาทั้งหมด  22,751 วินาที\n",
            "ช่วงระยะเวลาระหว่าง 00:00:00 ถึง 23:59:59 มีเวลาทั้งหมด  86,399 วินาที\n",
            "ช่วงระยะเวลาระหว่าง 18:04:11 ถึง 00:00:00 มีเวลาทั้งหมด  21,349 วินาที\n",
            "ช่วงระยะเวลาระหว่าง 21:30:00 ถึง 03:05:15 มีเวลาทั้งหมด  20,115 วินาที\n"
          ]
        }
      ]
    }
  ]
}