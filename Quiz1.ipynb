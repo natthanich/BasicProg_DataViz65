{
  "nbformat": 4,
  "nbformat_minor": 0,
  "metadata": {
    "colab": {
      "name": "Quiz1.ipynb",
      "provenance": [],
      "authorship_tag": "ABX9TyMCDWrGyclszsQcr1jyc0z/",
      "include_colab_link": true
    },
    "kernelspec": {
      "name": "python3",
      "display_name": "Python 3"
    },
    "language_info": {
      "name": "python"
    }
  },
  "cells": [
    {
      "cell_type": "markdown",
      "metadata": {
        "id": "view-in-github",
        "colab_type": "text"
      },
      "source": [
        "<a href=\"https://colab.research.google.com/github/natthanich/BasicProg_DataViz65/blob/main/Quiz1.ipynb\" target=\"_parent\"><img src=\"https://colab.research.google.com/assets/colab-badge.svg\" alt=\"Open In Colab\"/></a>"
      ]
    },
    {
      "cell_type": "markdown",
      "source": [
        "Quiz 1 \n",
        "\n",
        "คำนวณเวลาเป็นความต่างของเวลาเป็นวินาทีของช่วงเวลาต่อไปนี้โดยใช้คำสั่ง split() ช่วย และ print ออกมาให้สวยงาม\n",
        "\n",
        "* 09:11:50 - 12:30:15\n",
        "* 13:41:07 - 20:00:18\n",
        "* 21:30:15 - 00:00:00\n",
        "* 00:00:00 - 23:59:59\n",
        "\n",
        "\n",
        "\n",
        "\n",
        "\n"
      ],
      "metadata": {
        "id": "FKKg2s03yfKC"
      }
    },
    {
      "cell_type": "code",
      "execution_count": 20,
      "metadata": {
        "colab": {
          "base_uri": "https://localhost:8080/"
        },
        "id": "rzCoUk2cJsBQ",
        "outputId": "482afd49-b95d-4cd2-b3f6-25359a63967e"
      },
      "outputs": [
        {
          "output_type": "stream",
          "name": "stdout",
          "text": [
            "['09', '11', '50']\n",
            "33110\n",
            "['12', '30', '15']\n",
            "45015\n",
            "ผลต่างของช่วงเวลาระหว่าง 09:11:50 และ 12:30:15 มีค่าเท่ากับ 11905 วินาที\n"
          ]
        }
      ],
      "source": [
        "# 09:11:50 - 12:30:15\n",
        "a1 = '09:11:50'\n",
        "a1_sp = a1.split(':')\n",
        "print(a1_sp)\n",
        "ans1 = int(a1_sp[0])*3600 + int(a1_sp[1])*60+int(a1_sp[2])\n",
        "print(ans1)\n",
        "a2 = '12:30:15'\n",
        "a2_sp = a2.split(':')\n",
        "print(a2_sp)\n",
        "ans2= int(a2_sp[0])*3600 + int (a2_sp[1])*60 +int(a2_sp[2])\n",
        "print(ans2)\n",
        "print(f'ผลต่างของช่วงเวลาระหว่าง {a1} และ {a2} มีค่าเท่ากับ {ans2-ans1} วินาที')\n",
        "\n"
      ]
    },
    {
      "cell_type": "code",
      "execution_count": 21,
      "metadata": {
        "colab": {
          "base_uri": "https://localhost:8080/"
        },
        "outputId": "a4ebbfc7-e87c-4f2b-e8d5-281f0a7e1972",
        "id": "c9owdNGDPRG6"
      },
      "outputs": [
        {
          "output_type": "stream",
          "name": "stdout",
          "text": [
            "['13', '41', '07']\n",
            "49267\n",
            "['20', '00', '18']\n",
            "72018\n",
            "ผลต่างของช่วงเวลาระหว่าง 13:41:07 และ 20:00:18 มีค่าเท่ากับ 22751 วินาที\n"
          ]
        }
      ],
      "source": [
        "# 13:41:07 - 20:00:18\n",
        "b1 = '13:41:07'\n",
        "b1_sp = b1.split(':')\n",
        "print(b1_sp)\n",
        "ans3 = int(b1_sp[0])*3600 + int(b1_sp[1])*60+int(b1_sp[2])\n",
        "print(ans3)\n",
        "b2 = '20:00:18'\n",
        "b2_sp = b2.split(':')\n",
        "print(b2_sp)\n",
        "ans4= int(b2_sp[0])*3600 + int(b2_sp[1])*60 +int(b2_sp[2])\n",
        "print(ans4)\n",
        "print(f'ผลต่างของช่วงเวลาระหว่าง {b1} และ {b2} มีค่าเท่ากับ {ans4-ans3} วินาที')\n",
        "\n"
      ]
    },
    {
      "cell_type": "code",
      "execution_count": 22,
      "metadata": {
        "colab": {
          "base_uri": "https://localhost:8080/"
        },
        "outputId": "3c834d5c-0a7f-4e80-893d-2cc3e2ec4fa9",
        "id": "_LR3YN_BQEaa"
      },
      "outputs": [
        {
          "output_type": "stream",
          "name": "stdout",
          "text": [
            "['21', '30', '15']\n",
            "77415\n",
            "['24', '00', '00']\n",
            "86400\n",
            "ผลต่างของช่วงเวลาระหว่าง 21:30:15 และ 24:00:00 มีค่าเท่ากับ 8985 วินาที\n"
          ]
        }
      ],
      "source": [
        "# 21:30:15 - 00:00:00\n",
        "c1 = '21:30:15'\n",
        "c1_sp = c1.split(':')\n",
        "print(c1_sp)\n",
        "ans5 = int(c1_sp[0])*3600 + int(c1_sp[1])*60+int(c1_sp[2])\n",
        "print(ans5)\n",
        "c2 = '24:00:00'\n",
        "c2_sp = c2.split(':')\n",
        "print(c2_sp)\n",
        "ans6= int(c2_sp[0])*3600 + int(c2_sp[1])*60 +int(c2_sp[2])\n",
        "print(ans6)\n",
        "print(f'ผลต่างของช่วงเวลาระหว่าง {c1} และ {c2} มีค่าเท่ากับ {ans6-ans5} วินาที')\n",
        "\n"
      ]
    },
    {
      "cell_type": "code",
      "execution_count": 27,
      "metadata": {
        "colab": {
          "base_uri": "https://localhost:8080/"
        },
        "outputId": "a2ca89d1-20e2-4a3f-99f5-d743e272c149",
        "id": "cT61zyz0QxLF"
      },
      "outputs": [
        {
          "output_type": "stream",
          "name": "stdout",
          "text": [
            "['00', '00', '00']\n",
            "0\n",
            "['23', '59', '59']\n",
            "86399\n",
            "ผลต่างของช่วงเวลาระหว่าง 00:00:00 และ 23:59:59 มีค่าเท่ากับ 86399 วินาที\n"
          ]
        }
      ],
      "source": [
        "# 00:00:00 - 23:59:59\n",
        "d1 = '00:00:00'\n",
        "d1_sp = d1.split(':')\n",
        "print(d1_sp)\n",
        "ans7 = int(d1_sp[0])*3600 + int(d1_sp[1])*60+int(d1_sp[2])\n",
        "print(ans7)\n",
        "d2 = '23:59:59'\n",
        "d2_sp = d2.split(':')\n",
        "print(d2_sp)\n",
        "ans8= int(d2_sp[0])*3600 + int(d2_sp[1])*60 +int(d2_sp[2])\n",
        "print(ans8)\n",
        "print(f'ผลต่างของช่วงเวลาระหว่าง {d1} และ {d2} มีค่าเท่ากับ {ans8-ans7} วินาที')\n",
        "\n"
      ]
    }
  ]
}